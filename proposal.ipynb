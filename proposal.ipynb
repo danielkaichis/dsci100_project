{
 "cells": [
  {
   "cell_type": "markdown",
   "metadata": {},
   "source": [
    "# Diagnosis of Heart Disease in Cleveland Patients"
   ]
  },
  {
   "cell_type": "markdown",
   "metadata": {},
   "source": [
    "### Introduction:\n",
    "Cardiovascular diseases are the world's leading cause of death, killing over 17.9 million people each year. A number of factors are known to contribute to heart diseases, including an individual’s age, cholesterol levels, blood pressure, and many others. With so many factors impacting a patient's cardiac health, it is important to be aware of what sorts of things can increase the risk of future disease, and what physical characteristics are the most indicative of these diseases.\n",
    "\n",
    "With this in mind, we will answer the following question in this report. Based on a Cleveland patient’s age, cholesterol level and resting blood pressure, what category of heart disease do they have (0: no heart disease to 4: severe heart disease)? To regard the posed question, the Cleveland Heart Disease data set will be used from the UCI Machine Learning Repository. This dataset contains 14 variables relating to heart disease that were measured by doctors. There are 229 observations (rows) in the dataset that will be used for analysis.\n"
   ]
  },
  {
   "cell_type": "markdown",
   "metadata": {},
   "source": [
    "## Exploratory Data Analysis"
   ]
  },
  {
   "cell_type": "markdown",
   "metadata": {},
   "source": [
    "### Importing Libraries"
   ]
  },
  {
   "cell_type": "code",
   "execution_count": 2,
   "metadata": {
    "collapsed": true,
    "jupyter": {
     "outputs_hidden": true
    }
   },
   "outputs": [
    {
     "name": "stderr",
     "output_type": "stream",
     "text": [
      "── \u001b[1mAttaching packages\u001b[22m ─────────────────────────────────────── tidyverse 1.3.0 ──\n",
      "\n",
      "\u001b[32m✔\u001b[39m \u001b[34mggplot2\u001b[39m 3.3.2     \u001b[32m✔\u001b[39m \u001b[34mpurrr  \u001b[39m 0.3.4\n",
      "\u001b[32m✔\u001b[39m \u001b[34mtibble \u001b[39m 3.0.3     \u001b[32m✔\u001b[39m \u001b[34mdplyr  \u001b[39m 1.0.2\n",
      "\u001b[32m✔\u001b[39m \u001b[34mtidyr  \u001b[39m 1.1.2     \u001b[32m✔\u001b[39m \u001b[34mstringr\u001b[39m 1.4.0\n",
      "\u001b[32m✔\u001b[39m \u001b[34mreadr  \u001b[39m 1.3.1     \u001b[32m✔\u001b[39m \u001b[34mforcats\u001b[39m 0.5.0\n",
      "\n",
      "Warning message:\n",
      "“package ‘ggplot2’ was built under R version 4.0.1”\n",
      "Warning message:\n",
      "“package ‘tibble’ was built under R version 4.0.2”\n",
      "Warning message:\n",
      "“package ‘tidyr’ was built under R version 4.0.2”\n",
      "Warning message:\n",
      "“package ‘dplyr’ was built under R version 4.0.2”\n",
      "── \u001b[1mConflicts\u001b[22m ────────────────────────────────────────── tidyverse_conflicts() ──\n",
      "\u001b[31m✖\u001b[39m \u001b[34mdplyr\u001b[39m::\u001b[32mfilter()\u001b[39m masks \u001b[34mstats\u001b[39m::filter()\n",
      "\u001b[31m✖\u001b[39m \u001b[34mdplyr\u001b[39m::\u001b[32mlag()\u001b[39m    masks \u001b[34mstats\u001b[39m::lag()\n",
      "\n",
      "Warning message:\n",
      "“package ‘tidymodels’ was built under R version 4.0.2”\n",
      "── \u001b[1mAttaching packages\u001b[22m ────────────────────────────────────── tidymodels 0.1.1 ──\n",
      "\n",
      "\u001b[32m✔\u001b[39m \u001b[34mbroom    \u001b[39m 0.7.0      \u001b[32m✔\u001b[39m \u001b[34mrecipes  \u001b[39m 0.1.13\n",
      "\u001b[32m✔\u001b[39m \u001b[34mdials    \u001b[39m 0.0.9      \u001b[32m✔\u001b[39m \u001b[34mrsample  \u001b[39m 0.0.7 \n",
      "\u001b[32m✔\u001b[39m \u001b[34minfer    \u001b[39m 0.5.4      \u001b[32m✔\u001b[39m \u001b[34mtune     \u001b[39m 0.1.1 \n",
      "\u001b[32m✔\u001b[39m \u001b[34mmodeldata\u001b[39m 0.0.2      \u001b[32m✔\u001b[39m \u001b[34mworkflows\u001b[39m 0.2.0 \n",
      "\u001b[32m✔\u001b[39m \u001b[34mparsnip  \u001b[39m 0.1.3      \u001b[32m✔\u001b[39m \u001b[34myardstick\u001b[39m 0.0.7 \n",
      "\n",
      "Warning message:\n",
      "“package ‘broom’ was built under R version 4.0.2”\n",
      "Warning message:\n",
      "“package ‘dials’ was built under R version 4.0.2”\n",
      "Warning message:\n",
      "“package ‘infer’ was built under R version 4.0.3”\n",
      "Warning message:\n",
      "“package ‘modeldata’ was built under R version 4.0.1”\n",
      "Warning message:\n",
      "“package ‘parsnip’ was built under R version 4.0.2”\n",
      "Warning message:\n",
      "“package ‘recipes’ was built under R version 4.0.1”\n",
      "Warning message:\n",
      "“package ‘tune’ was built under R version 4.0.2”\n",
      "Warning message:\n",
      "“package ‘workflows’ was built under R version 4.0.2”\n",
      "Warning message:\n",
      "“package ‘yardstick’ was built under R version 4.0.2”\n",
      "── \u001b[1mConflicts\u001b[22m ───────────────────────────────────────── tidymodels_conflicts() ──\n",
      "\u001b[31m✖\u001b[39m \u001b[34mscales\u001b[39m::\u001b[32mdiscard()\u001b[39m masks \u001b[34mpurrr\u001b[39m::discard()\n",
      "\u001b[31m✖\u001b[39m \u001b[34mdplyr\u001b[39m::\u001b[32mfilter()\u001b[39m   masks \u001b[34mstats\u001b[39m::filter()\n",
      "\u001b[31m✖\u001b[39m \u001b[34mrecipes\u001b[39m::\u001b[32mfixed()\u001b[39m  masks \u001b[34mstringr\u001b[39m::fixed()\n",
      "\u001b[31m✖\u001b[39m \u001b[34mdplyr\u001b[39m::\u001b[32mlag()\u001b[39m      masks \u001b[34mstats\u001b[39m::lag()\n",
      "\u001b[31m✖\u001b[39m \u001b[34myardstick\u001b[39m::\u001b[32mspec()\u001b[39m masks \u001b[34mreadr\u001b[39m::spec()\n",
      "\u001b[31m✖\u001b[39m \u001b[34mrecipes\u001b[39m::\u001b[32mstep()\u001b[39m   masks \u001b[34mstats\u001b[39m::step()\n",
      "\n"
     ]
    }
   ],
   "source": [
    "library(tidyverse)\n",
    "library(repr)\n",
    "library(tidymodels)\n",
    "options(repr.matrix.max.rows = 6)"
   ]
  },
  {
   "cell_type": "markdown",
   "metadata": {},
   "source": [
    "### Reading Data from the web "
   ]
  },
  {
   "cell_type": "code",
   "execution_count": 78,
   "metadata": {},
   "outputs": [
    {
     "name": "stderr",
     "output_type": "stream",
     "text": [
      "Parsed with column specification:\n",
      "cols(\n",
      "  X1 = \u001b[32mcol_double()\u001b[39m,\n",
      "  X2 = \u001b[32mcol_double()\u001b[39m,\n",
      "  X3 = \u001b[32mcol_double()\u001b[39m,\n",
      "  X4 = \u001b[32mcol_double()\u001b[39m,\n",
      "  X5 = \u001b[32mcol_double()\u001b[39m,\n",
      "  X6 = \u001b[32mcol_double()\u001b[39m,\n",
      "  X7 = \u001b[32mcol_double()\u001b[39m,\n",
      "  X8 = \u001b[32mcol_double()\u001b[39m,\n",
      "  X9 = \u001b[32mcol_double()\u001b[39m,\n",
      "  X10 = \u001b[32mcol_double()\u001b[39m,\n",
      "  X11 = \u001b[32mcol_double()\u001b[39m,\n",
      "  X12 = \u001b[31mcol_character()\u001b[39m,\n",
      "  X13 = \u001b[31mcol_character()\u001b[39m,\n",
      "  X14 = \u001b[32mcol_double()\u001b[39m\n",
      ")\n",
      "\n"
     ]
    },
    {
     "data": {
      "text/html": [
       "<table>\n",
       "<caption>A tibble: 229 × 4</caption>\n",
       "<thead>\n",
       "\t<tr><th scope=col>age</th><th scope=col>resting_bp</th><th scope=col>cholesterol</th><th scope=col>disease_presence</th></tr>\n",
       "\t<tr><th scope=col>&lt;dbl&gt;</th><th scope=col>&lt;dbl&gt;</th><th scope=col>&lt;dbl&gt;</th><th scope=col>&lt;fct&gt;</th></tr>\n",
       "</thead>\n",
       "<tbody>\n",
       "\t<tr><td>63</td><td>145</td><td>233</td><td>0</td></tr>\n",
       "\t<tr><td>67</td><td>160</td><td>286</td><td>2</td></tr>\n",
       "\t<tr><td>67</td><td>120</td><td>229</td><td>1</td></tr>\n",
       "\t<tr><td>⋮</td><td>⋮</td><td>⋮</td><td>⋮</td></tr>\n",
       "\t<tr><td>57</td><td>130</td><td>131</td><td>3</td></tr>\n",
       "\t<tr><td>57</td><td>130</td><td>236</td><td>1</td></tr>\n",
       "\t<tr><td>38</td><td>138</td><td>175</td><td>0</td></tr>\n",
       "</tbody>\n",
       "</table>\n"
      ],
      "text/latex": [
       "A tibble: 229 × 4\n",
       "\\begin{tabular}{llll}\n",
       " age & resting\\_bp & cholesterol & disease\\_presence\\\\\n",
       " <dbl> & <dbl> & <dbl> & <fct>\\\\\n",
       "\\hline\n",
       "\t 63 & 145 & 233 & 0\\\\\n",
       "\t 67 & 160 & 286 & 2\\\\\n",
       "\t 67 & 120 & 229 & 1\\\\\n",
       "\t ⋮ & ⋮ & ⋮ & ⋮\\\\\n",
       "\t 57 & 130 & 131 & 3\\\\\n",
       "\t 57 & 130 & 236 & 1\\\\\n",
       "\t 38 & 138 & 175 & 0\\\\\n",
       "\\end{tabular}\n"
      ],
      "text/markdown": [
       "\n",
       "A tibble: 229 × 4\n",
       "\n",
       "| age &lt;dbl&gt; | resting_bp &lt;dbl&gt; | cholesterol &lt;dbl&gt; | disease_presence &lt;fct&gt; |\n",
       "|---|---|---|---|\n",
       "| 63 | 145 | 233 | 0 |\n",
       "| 67 | 160 | 286 | 2 |\n",
       "| 67 | 120 | 229 | 1 |\n",
       "| ⋮ | ⋮ | ⋮ | ⋮ |\n",
       "| 57 | 130 | 131 | 3 |\n",
       "| 57 | 130 | 236 | 1 |\n",
       "| 38 | 138 | 175 | 0 |\n",
       "\n"
      ],
      "text/plain": [
       "    age resting_bp cholesterol disease_presence\n",
       "1   63  145        233         0               \n",
       "2   67  160        286         2               \n",
       "3   67  120        229         1               \n",
       "⋮   ⋮   ⋮          ⋮           ⋮               \n",
       "227 57  130        131         3               \n",
       "228 57  130        236         1               \n",
       "229 38  138        175         0               "
      ]
     },
     "metadata": {},
     "output_type": "display_data"
    }
   ],
   "source": [
    "# URL dataset comes from\n",
    "url <- \"https://archive.ics.uci.edu/ml/machine-learning-databases/heart-disease/processed.cleveland.data\"\n",
    "# Select predictor and target variable column numbers from the description of the dataset at https://archive.ics.uci.edu/ml/datasets/Heart+Disease\n",
    "heart_data <- read_delim(url, col_names=FALSE, delim=\",\") %>% \n",
    "    select(X1, X4, X5, X14) %>% \n",
    "# Make target variable a factor\n",
    "    mutate(X14 = as_factor(X14))\n",
    "\n",
    "# Add column names\n",
    "colnames(heart_data) <- c(\"age\", \"resting_bp\", \"cholesterol\", \"disease_presence\")\n",
    "\n",
    "# Split data into training and test set with 75% of data going to the training set\n",
    "heart_split <- initial_split(heart_data, prop = 0.75, strata = disease_presence) \n",
    "heart_train <- training(heart_split) \n",
    "# for later use\n",
    "heart_test <- testing(heart_split)\n",
    "\n",
    "heart_train"
   ]
  },
  {
   "cell_type": "markdown",
   "metadata": {},
   "source": [
    "### Summary table of the number of observations in each class."
   ]
  },
  {
   "cell_type": "code",
   "execution_count": 67,
   "metadata": {},
   "outputs": [
    {
     "name": "stderr",
     "output_type": "stream",
     "text": [
      "`summarise()` ungrouping output (override with `.groups` argument)\n",
      "\n"
     ]
    },
    {
     "data": {
      "text/html": [
       "<table>\n",
       "<caption>A tibble: 5 × 2</caption>\n",
       "<thead>\n",
       "\t<tr><th scope=col>disease_presence</th><th scope=col>n</th></tr>\n",
       "\t<tr><th scope=col>&lt;fct&gt;</th><th scope=col>&lt;int&gt;</th></tr>\n",
       "</thead>\n",
       "<tbody>\n",
       "\t<tr><td>0</td><td>124</td></tr>\n",
       "\t<tr><td>1</td><td> 41</td></tr>\n",
       "\t<tr><td>2</td><td> 27</td></tr>\n",
       "\t<tr><td>3</td><td> 27</td></tr>\n",
       "\t<tr><td>4</td><td> 10</td></tr>\n",
       "</tbody>\n",
       "</table>\n"
      ],
      "text/latex": [
       "A tibble: 5 × 2\n",
       "\\begin{tabular}{ll}\n",
       " disease\\_presence & n\\\\\n",
       " <fct> & <int>\\\\\n",
       "\\hline\n",
       "\t 0 & 124\\\\\n",
       "\t 1 &  41\\\\\n",
       "\t 2 &  27\\\\\n",
       "\t 3 &  27\\\\\n",
       "\t 4 &  10\\\\\n",
       "\\end{tabular}\n"
      ],
      "text/markdown": [
       "\n",
       "A tibble: 5 × 2\n",
       "\n",
       "| disease_presence &lt;fct&gt; | n &lt;int&gt; |\n",
       "|---|---|\n",
       "| 0 | 124 |\n",
       "| 1 |  41 |\n",
       "| 2 |  27 |\n",
       "| 3 |  27 |\n",
       "| 4 |  10 |\n",
       "\n"
      ],
      "text/plain": [
       "  disease_presence n  \n",
       "1 0                124\n",
       "2 1                 41\n",
       "3 2                 27\n",
       "4 3                 27\n",
       "5 4                 10"
      ]
     },
     "metadata": {},
     "output_type": "display_data"
    }
   ],
   "source": [
    "counts_of_disease_presence <- group_by(heart_train, disease_presence) %>%\n",
    "    summarize(n=n())\n",
    "counts_of_disease_presence"
   ]
  },
  {
   "cell_type": "markdown",
   "metadata": {},
   "source": [
    "### Summary table of our predictor variables showing the min, max, and mean of each of our predictors."
   ]
  },
  {
   "cell_type": "code",
   "execution_count": 70,
   "metadata": {},
   "outputs": [
    {
     "name": "stderr",
     "output_type": "stream",
     "text": [
      "New names:\n",
      "* NA -> ...1\n",
      "\n"
     ]
    },
    {
     "data": {
      "text/html": [
       "<table>\n",
       "<caption>A tibble: 3 × 4</caption>\n",
       "<thead>\n",
       "\t<tr><th scope=col>Attribute</th><th scope=col>age</th><th scope=col>resting_bp</th><th scope=col>cholesterol</th></tr>\n",
       "\t<tr><th scope=col>&lt;chr&gt;</th><th scope=col>&lt;dbl&gt;</th><th scope=col>&lt;dbl&gt;</th><th scope=col>&lt;dbl&gt;</th></tr>\n",
       "</thead>\n",
       "<tbody>\n",
       "\t<tr><td>mean</td><td>54.04803</td><td>131.8734</td><td>246.3406</td></tr>\n",
       "\t<tr><td>min </td><td>29.00000</td><td> 94.0000</td><td>126.0000</td></tr>\n",
       "\t<tr><td>max </td><td>77.00000</td><td>200.0000</td><td>417.0000</td></tr>\n",
       "</tbody>\n",
       "</table>\n"
      ],
      "text/latex": [
       "A tibble: 3 × 4\n",
       "\\begin{tabular}{llll}\n",
       " Attribute & age & resting\\_bp & cholesterol\\\\\n",
       " <chr> & <dbl> & <dbl> & <dbl>\\\\\n",
       "\\hline\n",
       "\t mean & 54.04803 & 131.8734 & 246.3406\\\\\n",
       "\t min  & 29.00000 &  94.0000 & 126.0000\\\\\n",
       "\t max  & 77.00000 & 200.0000 & 417.0000\\\\\n",
       "\\end{tabular}\n"
      ],
      "text/markdown": [
       "\n",
       "A tibble: 3 × 4\n",
       "\n",
       "| Attribute &lt;chr&gt; | age &lt;dbl&gt; | resting_bp &lt;dbl&gt; | cholesterol &lt;dbl&gt; |\n",
       "|---|---|---|---|\n",
       "| mean | 54.04803 | 131.8734 | 246.3406 |\n",
       "| min  | 29.00000 |  94.0000 | 126.0000 |\n",
       "| max  | 77.00000 | 200.0000 | 417.0000 |\n",
       "\n"
      ],
      "text/plain": [
       "  Attribute age      resting_bp cholesterol\n",
       "1 mean      54.04803 131.8734   246.3406   \n",
       "2 min       29.00000  94.0000   126.0000   \n",
       "3 max       77.00000 200.0000   417.0000   "
      ]
     },
     "metadata": {},
     "output_type": "display_data"
    }
   ],
   "source": [
    "# Select only predictor variables\n",
    "predictor_vars <- heart_train %>% \n",
    "    select(-disease_presence)\n",
    "\n",
    "# Summarize each of the metrics we are looking for using map_df\n",
    "mean_summary <- predictor_vars %>% \n",
    "    map_df(mean, na.rm=TRUE)\n",
    "min_summary <- predictor_vars %>% \n",
    "    map_df(min, na.rm=TRUE)\n",
    "max_summary <- predictor_vars %>% \n",
    "    map_df(max, na.rm=TRUE)\n",
    "\n",
    "# Combine predicted summary dataframes together\n",
    "predictor_summary <- bind_rows(mean_summary, min_summary, max_summary)\n",
    "# Combine predicted summary dataframe with descriptive row titles\n",
    "predictor_summary <- bind_cols(c(\"mean\", \"min\", \"max\"), predictor_summary)\n",
    "# Rename column names to match what is in each column\n",
    "colnames(predictor_summary) = c(\"Attribute\", \"age\", \"resting_bp\", \"cholesterol\")\n",
    "\n",
    "predictor_summary"
   ]
  },
  {
   "cell_type": "markdown",
   "metadata": {},
   "source": [
    "### Visualizing our Training Data\n",
    "Here we have created one histogram for each of our predictors showing the distribution of the values in each column."
   ]
  },
  {
   "cell_type": "code",
   "execution_count": 77,
   "metadata": {},
   "outputs": [
    {
     "data": {
      "image/png": "[encoded data removed]",
      "text/plain": [
       "plot without title"
      ]
     },
     "metadata": {
      "image/png": {
       "height": 420,
       "width": 1200
      }
     },
     "output_type": "display_data"
    }
   ],
   "source": [
    "require(gridExtra)\n",
    "options(repr.plot.height = 7, repr.plot.width = 20)\n",
    "age_histogram <- ggplot(heart_train, aes(x = age)) +\n",
    "    geom_histogram(binwidth = 1) +\n",
    "    xlab(\"Age\") +\n",
    "    ylab(\"Count\") +\n",
    "    ggtitle(\"Age Distribution\") +\n",
    "    theme(text = element_text(size = 15))\n",
    "resting_bp_histogram <- ggplot(heart_train, aes(x = resting_bp)) +\n",
    "    geom_histogram(binwidth = 3) +\n",
    "    xlab(\"Resting Blood Pressure (mmHg)\") +\n",
    "    ylab(\"Count\") +\n",
    "    ggtitle(\"Resting Blood Pressure Distribution\") +\n",
    "    theme(text = element_text(size = 15))\n",
    "cholesterol_histogram <- ggplot(heart_train, aes(x = cholesterol)) +\n",
    "    geom_histogram(binwidth = 6) +\n",
    "    xlab(\"Cholesterol Level (mg/dL)\") +\n",
    "    ylab(\"Count\") +\n",
    "    ggtitle(\"Cholesterol Level Distribution\") +\n",
    "    theme(text = element_text(size = 15))\n",
    "\n",
    "grid.arrange(age_histogram, resting_bp_histogram, cholesterol_histogram, ncol = 3)"
   ]
  },
  {
   "cell_type": "markdown",
   "metadata": {},
   "source": [
    "## Methods\n",
    "From the 14 attributes in the original dataset, we will use 3 predictor variables along with our classification variable: age (in years), cholesterol (chol in mg/dl), resting blood pressure (trestbps in mmHg ), and the predicted variable, heart disease diagnosis (num). Using a classification method, these columns will give the characteristics needed to help categorize individuals' heart conditions. We will be using the K-nearest neighbours classification algorithm to make our predictions after scaling our data in a recipe so each variable is weighted equally. After splitting our data into test and training data, we will make a recipe, classification model, and workflow using cross-validation and tuning to get a better idea of the true accuracy of our model and choose the k-value to maximize this accuracy. To visualize our results, 3 scatter plots of the predicted variable (y-axis) will be plotted against each of the predictor variables (x-axis). This will help us identify patterns between the variables and help us determine which of the predictive variables have the biggest impact on our guiding question."
   ]
  },
  {
   "cell_type": "markdown",
   "metadata": {},
   "source": [
    "## Expected outcomes and significance:\n",
    "We expect that older people with higher blood pressure and higher cholesterol to have higher rates and severity of heart disease. Depending on the accuracy of the model obtained in this investigation, this may reinforce the fact that the presence of heart disease is solidly rooted in the variables used, and will allow us to see how heart disease relates to them. The results of this investigation may inspire those with concerning levels of cholesterol or blood pressure to make changes to their lifestyle habits to improve their health. It could also provide some insight as to exactly how the presence of heart disease relates to these variables and may aid in finding more effective solutions to reduce the risk of heart disease. With the results of this investigation, many more questions may arise. For instance, what other variables does the presence of heart disease depend on, or on which variable, in particular, may the presence of heart disease depend on most heavily?"
   ]
  },
  {
   "cell_type": "markdown",
   "metadata": {},
   "source": [
    "### References:\n",
    "<i>Cardiovascular diseases.</i> (2019, June 11). World Health Organization. https://www.who.int/health-topics/cardiovascular-diseases#tab=tab_1 <br>\n",
    "<i>UCI machine learning repository: Heart disease data set.</i> (n.d.). Machine Learning Repository. https://archive.ics.uci.edu/ml/datasets/Heart+Disease"
   ]
  }
 ],
 "metadata": {
  "kernelspec": {
   "display_name": "R",
   "language": "R",
   "name": "ir"
  },
  "language_info": {
   "codemirror_mode": "r",
   "file_extension": ".r",
   "mimetype": "text/x-r-source",
   "name": "R",
   "pygments_lexer": "r",
   "version": "4.0.0"
  }
 },
 "nbformat": 4,
 "nbformat_minor": 4
}
