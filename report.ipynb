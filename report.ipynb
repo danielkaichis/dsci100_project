{
 "cells": [
  {
   "cell_type": "markdown",
   "metadata": {},
   "source": [
    "# Diagnosis of Heart Disease in Cleveland Patients"
   ]
  },
  {
   "cell_type": "markdown",
   "metadata": {},
   "source": [
    "### Introduction:"
   ]
  },
  {
   "cell_type": "markdown",
   "metadata": {},
   "source": [
    "## Methods and Results"
   ]
  },
  {
   "cell_type": "markdown",
   "metadata": {},
   "source": [
    "### Exploratory Data Analysis"
   ]
  },
  {
   "cell_type": "markdown",
   "metadata": {},
   "source": [
    "#### Importing Libraries"
   ]
  },
  {
   "cell_type": "code",
   "execution_count": 1,
   "metadata": {},
   "outputs": [
    {
     "name": "stderr",
     "output_type": "stream",
     "text": [
      "── \u001b[1mAttaching packages\u001b[22m ─────────────────────────────────────── tidyverse 1.3.0 ──\n",
      "\n",
      "\u001b[32m✔\u001b[39m \u001b[34mggplot2\u001b[39m 3.3.2     \u001b[32m✔\u001b[39m \u001b[34mpurrr  \u001b[39m 0.3.4\n",
      "\u001b[32m✔\u001b[39m \u001b[34mtibble \u001b[39m 3.0.3     \u001b[32m✔\u001b[39m \u001b[34mdplyr  \u001b[39m 1.0.2\n",
      "\u001b[32m✔\u001b[39m \u001b[34mtidyr  \u001b[39m 1.1.2     \u001b[32m✔\u001b[39m \u001b[34mstringr\u001b[39m 1.4.0\n",
      "\u001b[32m✔\u001b[39m \u001b[34mreadr  \u001b[39m 1.3.1     \u001b[32m✔\u001b[39m \u001b[34mforcats\u001b[39m 0.5.0\n",
      "\n",
      "Warning message:\n",
      "“package ‘ggplot2’ was built under R version 4.0.1”\n",
      "Warning message:\n",
      "“package ‘tibble’ was built under R version 4.0.2”\n",
      "Warning message:\n",
      "“package ‘tidyr’ was built under R version 4.0.2”\n",
      "Warning message:\n",
      "“package ‘dplyr’ was built under R version 4.0.2”\n",
      "── \u001b[1mConflicts\u001b[22m ────────────────────────────────────────── tidyverse_conflicts() ──\n",
      "\u001b[31m✖\u001b[39m \u001b[34mdplyr\u001b[39m::\u001b[32mfilter()\u001b[39m masks \u001b[34mstats\u001b[39m::filter()\n",
      "\u001b[31m✖\u001b[39m \u001b[34mdplyr\u001b[39m::\u001b[32mlag()\u001b[39m    masks \u001b[34mstats\u001b[39m::lag()\n",
      "\n",
      "Warning message:\n",
      "“package ‘tidymodels’ was built under R version 4.0.2”\n",
      "── \u001b[1mAttaching packages\u001b[22m ────────────────────────────────────── tidymodels 0.1.1 ──\n",
      "\n",
      "\u001b[32m✔\u001b[39m \u001b[34mbroom    \u001b[39m 0.7.0      \u001b[32m✔\u001b[39m \u001b[34mrecipes  \u001b[39m 0.1.13\n",
      "\u001b[32m✔\u001b[39m \u001b[34mdials    \u001b[39m 0.0.9      \u001b[32m✔\u001b[39m \u001b[34mrsample  \u001b[39m 0.0.7 \n",
      "\u001b[32m✔\u001b[39m \u001b[34minfer    \u001b[39m 0.5.4      \u001b[32m✔\u001b[39m \u001b[34mtune     \u001b[39m 0.1.1 \n",
      "\u001b[32m✔\u001b[39m \u001b[34mmodeldata\u001b[39m 0.0.2      \u001b[32m✔\u001b[39m \u001b[34mworkflows\u001b[39m 0.2.0 \n",
      "\u001b[32m✔\u001b[39m \u001b[34mparsnip  \u001b[39m 0.1.3      \u001b[32m✔\u001b[39m \u001b[34myardstick\u001b[39m 0.0.7 \n",
      "\n",
      "Warning message:\n",
      "“package ‘broom’ was built under R version 4.0.2”\n",
      "Warning message:\n",
      "“package ‘dials’ was built under R version 4.0.2”\n",
      "Warning message:\n",
      "“package ‘infer’ was built under R version 4.0.3”\n",
      "Warning message:\n",
      "“package ‘modeldata’ was built under R version 4.0.1”\n",
      "Warning message:\n",
      "“package ‘parsnip’ was built under R version 4.0.2”\n",
      "Warning message:\n",
      "“package ‘recipes’ was built under R version 4.0.1”\n",
      "Warning message:\n",
      "“package ‘tune’ was built under R version 4.0.2”\n",
      "Warning message:\n",
      "“package ‘workflows’ was built under R version 4.0.2”\n",
      "Warning message:\n",
      "“package ‘yardstick’ was built under R version 4.0.2”\n",
      "── \u001b[1mConflicts\u001b[22m ───────────────────────────────────────── tidymodels_conflicts() ──\n",
      "\u001b[31m✖\u001b[39m \u001b[34mscales\u001b[39m::\u001b[32mdiscard()\u001b[39m masks \u001b[34mpurrr\u001b[39m::discard()\n",
      "\u001b[31m✖\u001b[39m \u001b[34mdplyr\u001b[39m::\u001b[32mfilter()\u001b[39m   masks \u001b[34mstats\u001b[39m::filter()\n",
      "\u001b[31m✖\u001b[39m \u001b[34mrecipes\u001b[39m::\u001b[32mfixed()\u001b[39m  masks \u001b[34mstringr\u001b[39m::fixed()\n",
      "\u001b[31m✖\u001b[39m \u001b[34mdplyr\u001b[39m::\u001b[32mlag()\u001b[39m      masks \u001b[34mstats\u001b[39m::lag()\n",
      "\u001b[31m✖\u001b[39m \u001b[34myardstick\u001b[39m::\u001b[32mspec()\u001b[39m masks \u001b[34mreadr\u001b[39m::spec()\n",
      "\u001b[31m✖\u001b[39m \u001b[34mrecipes\u001b[39m::\u001b[32mstep()\u001b[39m   masks \u001b[34mstats\u001b[39m::step()\n",
      "\n"
     ]
    }
   ],
   "source": [
    "library(tidyverse)\n",
    "library(repr)\n",
    "library(tidymodels)\n",
    "options(repr.matrix.max.rows = 6)\n",
    "\n",
    "# set seed for randomization\n",
    "set.seed(1234)"
   ]
  },
  {
   "cell_type": "markdown",
   "metadata": {},
   "source": [
    "#### Reading Data from the web "
   ]
  },
  {
   "cell_type": "code",
   "execution_count": 2,
   "metadata": {},
   "outputs": [
    {
     "name": "stderr",
     "output_type": "stream",
     "text": [
      "Parsed with column specification:\n",
      "cols(\n",
      "  X1 = \u001b[32mcol_double()\u001b[39m,\n",
      "  X2 = \u001b[32mcol_double()\u001b[39m,\n",
      "  X3 = \u001b[32mcol_double()\u001b[39m,\n",
      "  X4 = \u001b[32mcol_double()\u001b[39m,\n",
      "  X5 = \u001b[32mcol_double()\u001b[39m,\n",
      "  X6 = \u001b[32mcol_double()\u001b[39m,\n",
      "  X7 = \u001b[32mcol_double()\u001b[39m,\n",
      "  X8 = \u001b[32mcol_double()\u001b[39m,\n",
      "  X9 = \u001b[32mcol_double()\u001b[39m,\n",
      "  X10 = \u001b[32mcol_double()\u001b[39m,\n",
      "  X11 = \u001b[32mcol_double()\u001b[39m,\n",
      "  X12 = \u001b[31mcol_character()\u001b[39m,\n",
      "  X13 = \u001b[31mcol_character()\u001b[39m,\n",
      "  X14 = \u001b[32mcol_double()\u001b[39m\n",
      ")\n",
      "\n",
      "Parsed with column specification:\n",
      "cols(\n",
      "  X1 = \u001b[32mcol_double()\u001b[39m,\n",
      "  X2 = \u001b[32mcol_double()\u001b[39m,\n",
      "  X3 = \u001b[32mcol_double()\u001b[39m,\n",
      "  X4 = \u001b[31mcol_character()\u001b[39m,\n",
      "  X5 = \u001b[31mcol_character()\u001b[39m,\n",
      "  X6 = \u001b[31mcol_character()\u001b[39m,\n",
      "  X7 = \u001b[31mcol_character()\u001b[39m,\n",
      "  X8 = \u001b[31mcol_character()\u001b[39m,\n",
      "  X9 = \u001b[31mcol_character()\u001b[39m,\n",
      "  X10 = \u001b[32mcol_double()\u001b[39m,\n",
      "  X11 = \u001b[31mcol_character()\u001b[39m,\n",
      "  X12 = \u001b[31mcol_character()\u001b[39m,\n",
      "  X13 = \u001b[31mcol_character()\u001b[39m,\n",
      "  X14 = \u001b[32mcol_double()\u001b[39m\n",
      ")\n",
      "\n",
      "Parsed with column specification:\n",
      "cols(\n",
      "  X1 = \u001b[32mcol_double()\u001b[39m,\n",
      "  X2 = \u001b[32mcol_double()\u001b[39m,\n",
      "  X3 = \u001b[32mcol_double()\u001b[39m,\n",
      "  X4 = \u001b[31mcol_character()\u001b[39m,\n",
      "  X5 = \u001b[32mcol_double()\u001b[39m,\n",
      "  X6 = \u001b[31mcol_character()\u001b[39m,\n",
      "  X7 = \u001b[31mcol_character()\u001b[39m,\n",
      "  X8 = \u001b[31mcol_character()\u001b[39m,\n",
      "  X9 = \u001b[31mcol_character()\u001b[39m,\n",
      "  X10 = \u001b[31mcol_character()\u001b[39m,\n",
      "  X11 = \u001b[31mcol_character()\u001b[39m,\n",
      "  X12 = \u001b[31mcol_character()\u001b[39m,\n",
      "  X13 = \u001b[31mcol_character()\u001b[39m,\n",
      "  X14 = \u001b[32mcol_double()\u001b[39m\n",
      ")\n",
      "\n",
      "Parsed with column specification:\n",
      "cols(\n",
      "  X1 = \u001b[32mcol_double()\u001b[39m,\n",
      "  X2 = \u001b[32mcol_double()\u001b[39m,\n",
      "  X3 = \u001b[32mcol_double()\u001b[39m,\n",
      "  X4 = \u001b[31mcol_character()\u001b[39m,\n",
      "  X5 = \u001b[31mcol_character()\u001b[39m,\n",
      "  X6 = \u001b[31mcol_character()\u001b[39m,\n",
      "  X7 = \u001b[32mcol_double()\u001b[39m,\n",
      "  X8 = \u001b[31mcol_character()\u001b[39m,\n",
      "  X9 = \u001b[31mcol_character()\u001b[39m,\n",
      "  X10 = \u001b[31mcol_character()\u001b[39m,\n",
      "  X11 = \u001b[31mcol_character()\u001b[39m,\n",
      "  X12 = \u001b[31mcol_character()\u001b[39m,\n",
      "  X13 = \u001b[31mcol_character()\u001b[39m,\n",
      "  X14 = \u001b[32mcol_double()\u001b[39m\n",
      ")\n",
      "\n"
     ]
    },
    {
     "data": {
      "text/html": [
       "<table>\n",
       "<caption>A tibble: 646 × 3</caption>\n",
       "<thead>\n",
       "\t<tr><th scope=col>cholesterol</th><th scope=col>max_hr</th><th scope=col>disease_presence</th></tr>\n",
       "\t<tr><th scope=col>&lt;dbl&gt;</th><th scope=col>&lt;dbl&gt;</th><th scope=col>&lt;fct&gt;</th></tr>\n",
       "</thead>\n",
       "<tbody>\n",
       "\t<tr><td>145</td><td>150</td><td>0</td></tr>\n",
       "\t<tr><td>160</td><td>108</td><td>1</td></tr>\n",
       "\t<tr><td>120</td><td>129</td><td>1</td></tr>\n",
       "\t<tr><td>⋮</td><td>⋮</td><td>⋮</td></tr>\n",
       "\t<tr><td>127</td><td>154</td><td>1</td></tr>\n",
       "\t<tr><td>122</td><td>100</td><td>1</td></tr>\n",
       "\t<tr><td>120</td><td> 93</td><td>1</td></tr>\n",
       "</tbody>\n",
       "</table>\n"
      ],
      "text/latex": [
       "A tibble: 646 × 3\n",
       "\\begin{tabular}{lll}\n",
       " cholesterol & max\\_hr & disease\\_presence\\\\\n",
       " <dbl> & <dbl> & <fct>\\\\\n",
       "\\hline\n",
       "\t 145 & 150 & 0\\\\\n",
       "\t 160 & 108 & 1\\\\\n",
       "\t 120 & 129 & 1\\\\\n",
       "\t ⋮ & ⋮ & ⋮\\\\\n",
       "\t 127 & 154 & 1\\\\\n",
       "\t 122 & 100 & 1\\\\\n",
       "\t 120 &  93 & 1\\\\\n",
       "\\end{tabular}\n"
      ],
      "text/markdown": [
       "\n",
       "A tibble: 646 × 3\n",
       "\n",
       "| cholesterol &lt;dbl&gt; | max_hr &lt;dbl&gt; | disease_presence &lt;fct&gt; |\n",
       "|---|---|---|\n",
       "| 145 | 150 | 0 |\n",
       "| 160 | 108 | 1 |\n",
       "| 120 | 129 | 1 |\n",
       "| ⋮ | ⋮ | ⋮ |\n",
       "| 127 | 154 | 1 |\n",
       "| 122 | 100 | 1 |\n",
       "| 120 |  93 | 1 |\n",
       "\n"
      ],
      "text/plain": [
       "    cholesterol max_hr disease_presence\n",
       "1   145         150    0               \n",
       "2   160         108    1               \n",
       "3   120         129    1               \n",
       "⋮   ⋮           ⋮      ⋮               \n",
       "644 127         154    1               \n",
       "645 122         100    1               \n",
       "646 120          93    1               "
      ]
     },
     "metadata": {},
     "output_type": "display_data"
    }
   ],
   "source": [
    "# URLs for all proccessed heart data in the archive\n",
    "cleveland_url <- \"https://archive.ics.uci.edu/ml/machine-learning-databases/heart-disease/processed.cleveland.data\"\n",
    "hungary_url <- \"https://archive.ics.uci.edu/ml/machine-learning-databases/heart-disease/processed.hungarian.data\"\n",
    "switzerland_url <- \"https://archive.ics.uci.edu/ml/machine-learning-databases/heart-disease/processed.switzerland.data\"\n",
    "va_url <- \"https://archive.ics.uci.edu/ml/machine-learning-databases/heart-disease/processed.va.data\"\n",
    "\n",
    "# get each comma seperated datafram into R\n",
    "cleveland_data <- read_delim(cleveland_url, col_names=FALSE, delim=\",\") \n",
    "hungary_data <- read_delim(hungary_url, col_names=FALSE, delim=\",\")\n",
    "switzerland_data <- read_delim(switzerland_url, col_names=FALSE, delim=\",\")\n",
    "va_data <- read_delim(va_url, col_names=FALSE, delim=\",\") \n",
    "\n",
    "# bind dataframes together to make full dataframe for analysis\n",
    "heart_data <- rbind(cleveland_data, hungary_data, switzerland_data, va_data) %>% \n",
    "    # Select predictor and target variable column numbers from the description of the dataset at https://archive.ics.uci.edu/ml/datasets/Heart+Disease\n",
    "    # here we select cholesterol, max heart rate because they are the predictors that led to the highest accuracy in our knn model.\n",
    "    # we also select disease because it is our predicted variable\n",
    "    select(X4, X8, X14) %>%\n",
    "    # remove rows with missing values, denoted by question marks in the dataset\n",
    "    filter(X4 != \"?\", X8 != \"?\", X14 != \"?\") %>% \n",
    "    # much of the data had 0 as the cholesterol and max heart rate values, so we remove these rows since this is not possible and is thus invalid data.\n",
    "    filter(X4 > 0, X8 > 0) %>% \n",
    "    # Convert all disease presences greater than 0 to be 1, indicating the patient has some form of heart disease\n",
    "    mutate(X14 = case_when(X14 > 0 ~ 1, X14 == 0 ~ 0)) %>% \n",
    "    # Make target variable a factor\n",
    "    mutate(X14 = as_factor(X14)) %>%\n",
    "    # predictor variables were parsed by R as character columns so we convert them to numeric types\n",
    "    mutate(X4 = as.numeric(X4), X8 = as.numeric(X8))\n",
    "\n",
    "# Add column names to the dataframe\n",
    "colnames(heart_data) <- c(\"cholesterol\", \"max_hr\", \"disease_presence\")\n",
    "# Split data into training and test set with 75% of data going to the training set\n",
    "heart_split <- initial_split(heart_data, prop = 0.75, strata = disease_presence) \n",
    "heart_train <- training(heart_split) \n",
    "heart_test <- testing(heart_split)\n",
    "\n",
    "heart_train"
   ]
  },
  {
   "cell_type": "markdown",
   "metadata": {},
   "source": [
    "#### Summary table of the number of observations in each class."
   ]
  },
  {
   "cell_type": "markdown",
   "metadata": {},
   "source": [
    "From the table we see that about 46 percent of the data has class 0 and 54 percent of the data has class 1 which is a fairly good balance."
   ]
  },
  {
   "cell_type": "code",
   "execution_count": 3,
   "metadata": {},
   "outputs": [
    {
     "name": "stderr",
     "output_type": "stream",
     "text": [
      "`summarise()` ungrouping output (override with `.groups` argument)\n",
      "\n"
     ]
    },
    {
     "data": {
      "text/html": [
       "<table>\n",
       "<caption>A tibble: 2 × 2</caption>\n",
       "<thead>\n",
       "\t<tr><th scope=col>disease_presence</th><th scope=col>n</th></tr>\n",
       "\t<tr><th scope=col>&lt;fct&gt;</th><th scope=col>&lt;int&gt;</th></tr>\n",
       "</thead>\n",
       "<tbody>\n",
       "\t<tr><td>0</td><td>294</td></tr>\n",
       "\t<tr><td>1</td><td>352</td></tr>\n",
       "</tbody>\n",
       "</table>\n"
      ],
      "text/latex": [
       "A tibble: 2 × 2\n",
       "\\begin{tabular}{ll}\n",
       " disease\\_presence & n\\\\\n",
       " <fct> & <int>\\\\\n",
       "\\hline\n",
       "\t 0 & 294\\\\\n",
       "\t 1 & 352\\\\\n",
       "\\end{tabular}\n"
      ],
      "text/markdown": [
       "\n",
       "A tibble: 2 × 2\n",
       "\n",
       "| disease_presence &lt;fct&gt; | n &lt;int&gt; |\n",
       "|---|---|\n",
       "| 0 | 294 |\n",
       "| 1 | 352 |\n",
       "\n"
      ],
      "text/plain": [
       "  disease_presence n  \n",
       "1 0                294\n",
       "2 1                352"
      ]
     },
     "metadata": {},
     "output_type": "display_data"
    }
   ],
   "source": [
    "counts_of_disease_presence <- group_by(heart_train, disease_presence) %>%\n",
    "    summarize(n=n())\n",
    "counts_of_disease_presence"
   ]
  },
  {
   "cell_type": "markdown",
   "metadata": {},
   "source": [
    "#### Summary table of our predictor variables showing the min, max, and mean of each of our predictors."
   ]
  },
  {
   "cell_type": "code",
   "execution_count": 4,
   "metadata": {},
   "outputs": [
    {
     "name": "stderr",
     "output_type": "stream",
     "text": [
      "New names:\n",
      "* NA -> ...1\n",
      "\n"
     ]
    },
    {
     "data": {
      "text/html": [
       "<table>\n",
       "<caption>A tibble: 3 × 3</caption>\n",
       "<thead>\n",
       "\t<tr><th scope=col>Attribute</th><th scope=col>cholesterol</th><th scope=col>max_hr</th></tr>\n",
       "\t<tr><th scope=col>&lt;chr&gt;</th><th scope=col>&lt;dbl&gt;</th><th scope=col>&lt;dbl&gt;</th></tr>\n",
       "</thead>\n",
       "<tbody>\n",
       "\t<tr><td>mean</td><td>132.1966</td><td>137.1641</td></tr>\n",
       "\t<tr><td>min </td><td> 80.0000</td><td> 60.0000</td></tr>\n",
       "\t<tr><td>max </td><td>200.0000</td><td>202.0000</td></tr>\n",
       "</tbody>\n",
       "</table>\n"
      ],
      "text/latex": [
       "A tibble: 3 × 3\n",
       "\\begin{tabular}{lll}\n",
       " Attribute & cholesterol & max\\_hr\\\\\n",
       " <chr> & <dbl> & <dbl>\\\\\n",
       "\\hline\n",
       "\t mean & 132.1966 & 137.1641\\\\\n",
       "\t min  &  80.0000 &  60.0000\\\\\n",
       "\t max  & 200.0000 & 202.0000\\\\\n",
       "\\end{tabular}\n"
      ],
      "text/markdown": [
       "\n",
       "A tibble: 3 × 3\n",
       "\n",
       "| Attribute &lt;chr&gt; | cholesterol &lt;dbl&gt; | max_hr &lt;dbl&gt; |\n",
       "|---|---|---|\n",
       "| mean | 132.1966 | 137.1641 |\n",
       "| min  |  80.0000 |  60.0000 |\n",
       "| max  | 200.0000 | 202.0000 |\n",
       "\n"
      ],
      "text/plain": [
       "  Attribute cholesterol max_hr  \n",
       "1 mean      132.1966    137.1641\n",
       "2 min        80.0000     60.0000\n",
       "3 max       200.0000    202.0000"
      ]
     },
     "metadata": {},
     "output_type": "display_data"
    }
   ],
   "source": [
    "# Select only predictor variables\n",
    "predictor_vars <- heart_train %>% \n",
    "    select(-disease_presence)\n",
    "\n",
    "# Summarize each of the metrics we are looking for using map_df\n",
    "mean_summary <- predictor_vars %>% \n",
    "    map_df(mean, na.rm=TRUE)\n",
    "min_summary <- predictor_vars %>% \n",
    "    map_df(min, na.rm=TRUE)\n",
    "max_summary <- predictor_vars %>% \n",
    "    map_df(max, na.rm=TRUE)\n",
    "\n",
    "# Combine predicted summary dataframes together\n",
    "predictor_summary <- bind_rows(mean_summary, min_summary, max_summary)\n",
    "# Combine predicted summary dataframe with descriptive row titles\n",
    "predictor_summary <- bind_cols(c(\"mean\", \"min\", \"max\"), predictor_summary)\n",
    "# Rename column names to match what is in each column\n",
    "colnames(predictor_summary) = c(\"Attribute\", \"cholesterol\", \"max_hr\")\n",
    "\n",
    "predictor_summary"
   ]
  },
  {
   "cell_type": "markdown",
   "metadata": {},
   "source": [
    "#### Visualizing our Training Data\n",
    "Here we have created one histogram for each of our predictors showing the distribution of the values in each column. We have also created a graph of our two predictors showing their distribution and the disease_presence of each data point."
   ]
  },
  {
   "cell_type": "code",
   "execution_count": 5,
   "metadata": {},
   "outputs": [
    {
     "name": "stderr",
     "output_type": "stream",
     "text": [
      "Loading required package: gridExtra\n",
      "\n",
      "\n",
      "Attaching package: ‘gridExtra’\n",
      "\n",
      "\n",
      "The following object is masked from ‘package:dplyr’:\n",
      "\n",
      "    combine\n",
      "\n",
      "\n"
     ]
    },
    {
     "data": {
      "image/png": "[encoded data removed]",
      "text/plain": [
       "plot without title"
      ]
     },
     "metadata": {
      "image/png": {
       "height": 420,
       "width": 1200
      }
     },
     "output_type": "display_data"
    },
    {
     "data": {
      "image/png": "[encoded data removed]",
      "text/plain": [
       "plot without title"
      ]
     },
     "metadata": {
      "image/png": {
       "height": 420,
       "width": 1200
      }
     },
     "output_type": "display_data"
    }
   ],
   "source": [
    "require(gridExtra)\n",
    "options(repr.plot.height = 7, repr.plot.width = 20)\n",
    "cholesterol_histogram <- ggplot(heart_train, aes(x = cholesterol)) +\n",
    "    geom_histogram(binwidth = 6) +\n",
    "    xlab(\"Cholesterol Level (mg/dL)\") +\n",
    "    ylab(\"Count\") +\n",
    "    ggtitle(\"Cholesterol Level Distribution\") +\n",
    "    theme(text = element_text(size = 15))\n",
    "max_hr_histogram <- ggplot(heart_train, aes(x = max_hr)) +\n",
    "    geom_histogram(binwidth = 6) +\n",
    "    xlab(\"Maximum Heart Rate Level (bpm)\") +\n",
    "    ylab(\"Count\") +\n",
    "    ggtitle(\"Maximum Heart Rate Level Distribution\") +\n",
    "    theme(text = element_text(size = 15))\n",
    "\n",
    "grid.arrange(cholesterol_histogram, max_hr_histogram, ncol = 4)\n",
    "\n",
    "# plot max heart rate vs cholesterol from training data\n",
    "heart_plot <- ggplot(heart_train, aes(x = cholesterol, y = max_hr, color = disease_presence)) +\n",
    "    geom_point() +\n",
    "    labs(color = \"Disease Presence\", x = \"Cholesterol (mg/dl)\", y = \"Max Heart Rate (bpm)\") +\n",
    "    theme(text = element_text(size = 12)) +\n",
    "    ggtitle(\"Patient cholesterol levels vs maximum heart rate (training data)\")\n",
    "\n",
    "heart_plot"
   ]
  },
  {
   "cell_type": "markdown",
   "metadata": {},
   "source": [
    "## Data Analysis"
   ]
  },
  {
   "cell_type": "markdown",
   "metadata": {},
   "source": [
    "To begin, we will create a recipe that uses all the predictors in the training set (age, resting blood pressure, and cholesterol), and scale and center the variables so we can be sure that they are on a comparable magnitude. We will then create a model specification with tuning on the number of neighbors. We will then perform a 5-fold cross-validation on the training set."
   ]
  },
  {
   "cell_type": "code",
   "execution_count": 6,
   "metadata": {},
   "outputs": [],
   "source": [
    "# create recipe with our two predictor variables specified\n",
    "heart_recipe <- recipe(disease_presence ~ cholesterol + max_hr, data = heart_train) %>%\n",
    "                # scale and center our variables\n",
    "                step_scale(all_predictors()) %>%\n",
    "                step_center(all_predictors())\n",
    "\n",
    "# create knn model specification using rectangular distances for the nearest neighbors weight function\n",
    "knn_spec <- nearest_neighbor(weight_func = \"rectangular\", neighbors = tune()) %>%\n",
    "            set_engine(\"kknn\") %>%\n",
    "            set_mode(\"classification\")\n",
    "\n",
    "# create cross validation object specifying the training data and that we will be using 5 fold cross validation (v = 5)\n",
    "# to predict the strata which is disease presence.\n",
    "heart_vfold <- vfold_cv(heart_train, v = 5, strata = disease_presence)"
   ]
  },
  {
   "cell_type": "markdown",
   "metadata": {},
   "source": [
    "We will then create a workflow analysis with our recipe and model specification and in order to have a comprehensive analysis of the best K-value, we will have it try values of K from 1 to 80, incrementing by 2. We will then collect the metrics from this model to plot later."
   ]
  },
  {
   "cell_type": "code",
   "execution_count": null,
   "metadata": {},
   "outputs": [],
   "source": [
    "# create tibble of neighbors from 1 to 100 to try\n",
    "k_vals <- tibble(neighbors = seq(from = 1, to = 80, by = 2))\n",
    "\n",
    "# create workflow\n",
    "heart_fit <- workflow() %>%\n",
    "            add_recipe(heart_recipe) %>%\n",
    "            add_model(knn_spec) %>%\n",
    "            # perform cross validation\n",
    "            tune_grid(resamples = heart_vfold, grid = k_vals) %>%\n",
    "            # collect metrics for analysis\n",
    "            collect_metrics()"
   ]
  },
  {
   "cell_type": "markdown",
   "metadata": {},
   "source": [
    "We will now plot the K-value against the accuracy it yields, to visualize which value of K yields the highest accuracy with the training data."
   ]
  },
  {
   "cell_type": "code",
   "execution_count": null,
   "metadata": {},
   "outputs": [],
   "source": [
    "accuracies <- heart_fit %>% \n",
    "    filter(.metric == \"accuracy\")\n",
    "\n",
    "cross_val_plot <- ggplot(accuracies, aes(x = neighbors, y = mean)) +\n",
    "    geom_point() +\n",
    "    geom_line() +\n",
    "    labs(x = \"Neighbors\", y = \"Accuracy Estimate\") +\n",
    "    scale_x_continuous(breaks = seq(1, 80, by = 2)) +  # adjusting the x-axis\n",
    "    scale_y_continuous(limits = c(0.3, 0.8)) # adjusting the y-axis\n",
    "\n",
    "cross_val_plot"
   ]
  },
  {
   "cell_type": "markdown",
   "metadata": {},
   "source": [
    "Looking at the graph, it is hard to visually determine which k value gives the highest accuracy, however it appears to be either a value in the range of 59-65 or 9-13. We will use R to find the exact K value that provides the highest accuracy from our cross validation. Next, we use the k-value that gives the maximum accuracy to fit the best model and use this model to predict the disease presence of the testing data."
   ]
  },
  {
   "cell_type": "code",
   "execution_count": null,
   "metadata": {},
   "outputs": [],
   "source": [
    "# get the k value that gives the highest accuracy\n",
    "best_k <- accuracies %>% \n",
    "    # arrange by mean in descending order (this is the column with the accuracy values)\n",
    "    arrange(desc(mean)) %>%\n",
    "    # keep only the first row (highest accuracy)\n",
    "    slice(1) %>% \n",
    "    # select the neighbors column and pull the neighbors value,\n",
    "    # this is the k value that gives the best accuracy on predicting the training data\n",
    "    select(neighbors) %>% \n",
    "    pull()\n",
    "\n",
    "# create the new knn spec with the best k value\n",
    "knn_spec_best <- nearest_neighbor(weight_func = 'rectangular', neighbors = best_k) %>%\n",
    "    set_engine('kknn') %>%\n",
    "    set_mode('classification')\n",
    "\n",
    "# create the new model with the new best spec model\n",
    "heart_fit_max <- workflow() %>% \n",
    "    add_recipe(heart_recipe) %>%\n",
    "    add_model(knn_spec_best) %>%\n",
    "    fit(data = heart_train)\n",
    "\n",
    "# predict the disease presence of observations in the testing set\n",
    "heart_predictions <- predict(heart_fit_max, heart_test) %>%\n",
    "    bind_cols(heart_test) \n",
    "heart_predictions"
   ]
  },
  {
   "cell_type": "markdown",
   "metadata": {},
   "source": [
    "Now, we will compare the predictions to the true values and determine the models accuracy when predicting the disease presence of the testing data."
   ]
  },
  {
   "cell_type": "code",
   "execution_count": null,
   "metadata": {},
   "outputs": [],
   "source": [
    "# collect metrics from the predictions using the metrics function\n",
    "heart_metrics <- heart_predictions %>%\n",
    "    metrics(truth = disease_presence, estimate = .pred_class) %>% \n",
    "    # filter for the accuracy metric\n",
    "    filter(.metric == 'accuracy')\n",
    "heart_metrics"
   ]
  },
  {
   "cell_type": "markdown",
   "metadata": {},
   "source": [
    "From the table, the accuracy of the model on the testing set is about 71.96 percent, slighlty higher than the observed accuracy of the training data which appears to be around 67% from figure ___. "
   ]
  },
  {
   "cell_type": "markdown",
   "metadata": {},
   "source": [
    "Next, we make a confusion matrix to summarize the results of the classification predictions and see how it misclassifies observatipons."
   ]
  },
  {
   "cell_type": "code",
   "execution_count": null,
   "metadata": {},
   "outputs": [],
   "source": [
    "heart_conf_mat <- heart_predictions %>%\n",
    "    conf_mat(truth = disease_presence, estimate = .pred_class)\n",
    "heart_conf_mat"
   ]
  },
  {
   "cell_type": "markdown",
   "metadata": {},
   "source": [
    "From this table, we see that our model predicts the correct class 154 times out of 214 testing observations, with it correctly predicting no heart disease (disease_presence of 0) 63/97 times and correctly predicting the presence of heart disease (disease_presence of 1) 91/117 times. This means it predicts heart disease presence correctly around 78 percent of the time and the lack of heart disease correctly 65 percent of the time. "
   ]
  },
  {
   "cell_type": "markdown",
   "metadata": {},
   "source": [
    "### Graphing results"
   ]
  },
  {
   "cell_type": "markdown",
   "metadata": {},
   "source": [
    "Using code from dsci 100 tutorial activity 6, we graph the patients max heart rate vs cholesterol levels with points colored by their class, and overlay what the model predicts at each point (shaded colors)."
   ]
  },
  {
   "cell_type": "code",
   "execution_count": null,
   "metadata": {},
   "outputs": [],
   "source": [
    "are_grid <- seq(min(heart_data$cholesterol, na.rm = TRUE), \n",
    "                max(heart_data$cholesterol, na.rm = TRUE), \n",
    "                length.out = 100)\n",
    "smo_grid <- seq(min(heart_data$max_hr, na.rm = TRUE), \n",
    "                max(heart_data$max_hr, na.rm = TRUE), \n",
    "                length.out = 100)\n",
    "\n",
    "asgrid <- as_tibble(expand.grid(cholesterol = are_grid, \n",
    "                                max_hr = smo_grid))\n",
    "\n",
    "# use the fit workflow to make predictions at the grid points\n",
    "knnPredGrid <- predict(heart_fit_max, asgrid)\n",
    "\n",
    "# bind the predictions as a new column with the grid points\n",
    "prediction_table <- bind_cols(knnPredGrid, asgrid) %>%\n",
    "  rename(Class = .pred_class)\n",
    "\n",
    "# plot:\n",
    "# 1. the colored scatter of the original data\n",
    "# 2. the faded colored scatter for the grid points\n",
    "wkflw_plot <- ggplot() +\n",
    "    geom_point(data = heart_data, \n",
    "    mapping = aes(x = cholesterol, \n",
    "                  y = max_hr,\n",
    "                  color = disease_presence,\n",
    "                  size = 10), \n",
    "               alpha = 0.75) +\n",
    "    geom_point(data = prediction_table, mapping = aes(x = cholesterol, \n",
    "                                                      y = max_hr, \n",
    "                                                      color = Class), \n",
    "               alpha = 0.15, size = 5) +\n",
    "    labs(color = \"Disease Presence\", x = \"Cholesterol (mg/dl)\", y = \"Max Heart Rate (bpm)\") +\n",
    "    theme(text = element_text(size = 12)) +\n",
    "    ggtitle(\"Prediction vs True Disease Presence\")\n",
    "\n",
    "wkflw_plot"
   ]
  },
  {
   "cell_type": "markdown",
   "metadata": {},
   "source": [
    "The graph shows that although there is a clear divide between where the model predicts a class of 0 or 1, there are many data points that are predicted incorrectly, as seen by the red data points in the blue shaded area and the blue data points in the red shaded area. "
   ]
  },
  {
   "cell_type": "markdown",
   "metadata": {},
   "source": [
    "## Expected outcomes and significance:"
   ]
  },
  {
   "cell_type": "markdown",
   "metadata": {},
   "source": [
    "### References:"
   ]
  },
  {
   "cell_type": "code",
   "execution_count": null,
   "metadata": {},
   "outputs": [],
   "source": []
  }
 ],
 "metadata": {
  "kernelspec": {
   "display_name": "R",
   "language": "R",
   "name": "ir"
  },
  "language_info": {
   "codemirror_mode": "r",
   "file_extension": ".r",
   "mimetype": "text/x-r-source",
   "name": "R",
   "pygments_lexer": "r",
   "version": "4.0.0"
  }
 },
 "nbformat": 4,
 "nbformat_minor": 4
}
