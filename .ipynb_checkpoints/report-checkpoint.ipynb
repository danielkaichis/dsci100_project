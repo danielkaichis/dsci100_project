{
 "cells": [
  {
   "cell_type": "markdown",
   "metadata": {},
   "source": [
    "# Diagnosis of Heart Disease in Cleveland Patients"
   ]
  },
  {
   "cell_type": "markdown",
   "metadata": {},
   "source": [
    "### Introduction:"
   ]
  },
  {
   "cell_type": "markdown",
   "metadata": {},
   "source": [
    "## Methods and Results"
   ]
  },
  {
   "cell_type": "markdown",
   "metadata": {},
   "source": [
    "### Exploratory Data Analysis"
   ]
  },
  {
   "cell_type": "markdown",
   "metadata": {},
   "source": [
    "#### Importing Libraries"
   ]
  },
  {
   "cell_type": "code",
   "execution_count": 1,
   "metadata": {},
   "outputs": [
    {
     "name": "stderr",
     "output_type": "stream",
     "text": [
      "── \u001b[1mAttaching packages\u001b[22m ─────────────────────────────────────── tidyverse 1.3.0 ──\n",
      "\n",
      "\u001b[32m✔\u001b[39m \u001b[34mggplot2\u001b[39m 3.3.2     \u001b[32m✔\u001b[39m \u001b[34mpurrr  \u001b[39m 0.3.4\n",
      "\u001b[32m✔\u001b[39m \u001b[34mtibble \u001b[39m 3.0.3     \u001b[32m✔\u001b[39m \u001b[34mdplyr  \u001b[39m 1.0.2\n",
      "\u001b[32m✔\u001b[39m \u001b[34mtidyr  \u001b[39m 1.1.2     \u001b[32m✔\u001b[39m \u001b[34mstringr\u001b[39m 1.4.0\n",
      "\u001b[32m✔\u001b[39m \u001b[34mreadr  \u001b[39m 1.3.1     \u001b[32m✔\u001b[39m \u001b[34mforcats\u001b[39m 0.5.0\n",
      "\n",
      "Warning message:\n",
      "“package ‘ggplot2’ was built under R version 4.0.1”\n",
      "Warning message:\n",
      "“package ‘tibble’ was built under R version 4.0.2”\n",
      "Warning message:\n",
      "“package ‘tidyr’ was built under R version 4.0.2”\n",
      "Warning message:\n",
      "“package ‘dplyr’ was built under R version 4.0.2”\n",
      "── \u001b[1mConflicts\u001b[22m ────────────────────────────────────────── tidyverse_conflicts() ──\n",
      "\u001b[31m✖\u001b[39m \u001b[34mdplyr\u001b[39m::\u001b[32mfilter()\u001b[39m masks \u001b[34mstats\u001b[39m::filter()\n",
      "\u001b[31m✖\u001b[39m \u001b[34mdplyr\u001b[39m::\u001b[32mlag()\u001b[39m    masks \u001b[34mstats\u001b[39m::lag()\n",
      "\n",
      "Warning message:\n",
      "“package ‘tidymodels’ was built under R version 4.0.2”\n",
      "── \u001b[1mAttaching packages\u001b[22m ────────────────────────────────────── tidymodels 0.1.1 ──\n",
      "\n",
      "\u001b[32m✔\u001b[39m \u001b[34mbroom    \u001b[39m 0.7.0      \u001b[32m✔\u001b[39m \u001b[34mrecipes  \u001b[39m 0.1.13\n",
      "\u001b[32m✔\u001b[39m \u001b[34mdials    \u001b[39m 0.0.9      \u001b[32m✔\u001b[39m \u001b[34mrsample  \u001b[39m 0.0.7 \n",
      "\u001b[32m✔\u001b[39m \u001b[34minfer    \u001b[39m 0.5.4      \u001b[32m✔\u001b[39m \u001b[34mtune     \u001b[39m 0.1.1 \n",
      "\u001b[32m✔\u001b[39m \u001b[34mmodeldata\u001b[39m 0.0.2      \u001b[32m✔\u001b[39m \u001b[34mworkflows\u001b[39m 0.2.0 \n",
      "\u001b[32m✔\u001b[39m \u001b[34mparsnip  \u001b[39m 0.1.3      \u001b[32m✔\u001b[39m \u001b[34myardstick\u001b[39m 0.0.7 \n",
      "\n",
      "Warning message:\n",
      "“package ‘broom’ was built under R version 4.0.2”\n",
      "Warning message:\n",
      "“package ‘dials’ was built under R version 4.0.2”\n",
      "Warning message:\n",
      "“package ‘infer’ was built under R version 4.0.3”\n",
      "Warning message:\n",
      "“package ‘modeldata’ was built under R version 4.0.1”\n",
      "Warning message:\n",
      "“package ‘parsnip’ was built under R version 4.0.2”\n",
      "Warning message:\n",
      "“package ‘recipes’ was built under R version 4.0.1”\n",
      "Warning message:\n",
      "“package ‘tune’ was built under R version 4.0.2”\n",
      "Warning message:\n",
      "“package ‘workflows’ was built under R version 4.0.2”\n",
      "Warning message:\n",
      "“package ‘yardstick’ was built under R version 4.0.2”\n",
      "── \u001b[1mConflicts\u001b[22m ───────────────────────────────────────── tidymodels_conflicts() ──\n",
      "\u001b[31m✖\u001b[39m \u001b[34mscales\u001b[39m::\u001b[32mdiscard()\u001b[39m masks \u001b[34mpurrr\u001b[39m::discard()\n",
      "\u001b[31m✖\u001b[39m \u001b[34mdplyr\u001b[39m::\u001b[32mfilter()\u001b[39m   masks \u001b[34mstats\u001b[39m::filter()\n",
      "\u001b[31m✖\u001b[39m \u001b[34mrecipes\u001b[39m::\u001b[32mfixed()\u001b[39m  masks \u001b[34mstringr\u001b[39m::fixed()\n",
      "\u001b[31m✖\u001b[39m \u001b[34mdplyr\u001b[39m::\u001b[32mlag()\u001b[39m      masks \u001b[34mstats\u001b[39m::lag()\n",
      "\u001b[31m✖\u001b[39m \u001b[34myardstick\u001b[39m::\u001b[32mspec()\u001b[39m masks \u001b[34mreadr\u001b[39m::spec()\n",
      "\u001b[31m✖\u001b[39m \u001b[34mrecipes\u001b[39m::\u001b[32mstep()\u001b[39m   masks \u001b[34mstats\u001b[39m::step()\n",
      "\n"
     ]
    }
   ],
   "source": [
    "library(tidyverse)\n",
    "library(repr)\n",
    "library(tidymodels)\n",
    "options(repr.matrix.max.rows = 6)\n",
    "\n",
    "# set seed for randomization\n",
    "set.seed(1234)"
   ]
  },
  {
   "cell_type": "markdown",
   "metadata": {},
   "source": [
    "#### Reading Data from the web "
   ]
  },
  {
   "cell_type": "code",
   "execution_count": 2,
   "metadata": {},
   "outputs": [
    {
     "name": "stderr",
     "output_type": "stream",
     "text": [
      "Parsed with column specification:\n",
      "cols(\n",
      "  X1 = \u001b[32mcol_double()\u001b[39m,\n",
      "  X2 = \u001b[32mcol_double()\u001b[39m,\n",
      "  X3 = \u001b[32mcol_double()\u001b[39m,\n",
      "  X4 = \u001b[32mcol_double()\u001b[39m,\n",
      "  X5 = \u001b[32mcol_double()\u001b[39m,\n",
      "  X6 = \u001b[32mcol_double()\u001b[39m,\n",
      "  X7 = \u001b[32mcol_double()\u001b[39m,\n",
      "  X8 = \u001b[32mcol_double()\u001b[39m,\n",
      "  X9 = \u001b[32mcol_double()\u001b[39m,\n",
      "  X10 = \u001b[32mcol_double()\u001b[39m,\n",
      "  X11 = \u001b[32mcol_double()\u001b[39m,\n",
      "  X12 = \u001b[31mcol_character()\u001b[39m,\n",
      "  X13 = \u001b[31mcol_character()\u001b[39m,\n",
      "  X14 = \u001b[32mcol_double()\u001b[39m\n",
      ")\n",
      "\n"
     ]
    },
    {
     "data": {
      "text/html": [
       "<table>\n",
       "<caption>A tibble: 259 × 4</caption>\n",
       "<thead>\n",
       "\t<tr><th scope=col>age</th><th scope=col>resting_bp</th><th scope=col>cholesterol</th><th scope=col>disease_presence</th></tr>\n",
       "\t<tr><th scope=col>&lt;dbl&gt;</th><th scope=col>&lt;dbl&gt;</th><th scope=col>&lt;dbl&gt;</th><th scope=col>&lt;fct&gt;</th></tr>\n",
       "</thead>\n",
       "<tbody>\n",
       "\t<tr><td>63</td><td>145</td><td>233</td><td>0</td></tr>\n",
       "\t<tr><td>67</td><td>160</td><td>286</td><td>1</td></tr>\n",
       "\t<tr><td>37</td><td>130</td><td>250</td><td>0</td></tr>\n",
       "\t<tr><td>⋮</td><td>⋮</td><td>⋮</td><td>⋮</td></tr>\n",
       "\t<tr><td>57</td><td>130</td><td>131</td><td>1</td></tr>\n",
       "\t<tr><td>57</td><td>130</td><td>236</td><td>1</td></tr>\n",
       "\t<tr><td>38</td><td>138</td><td>175</td><td>0</td></tr>\n",
       "</tbody>\n",
       "</table>\n"
      ],
      "text/latex": [
       "A tibble: 259 × 4\n",
       "\\begin{tabular}{llll}\n",
       " age & resting\\_bp & cholesterol & disease\\_presence\\\\\n",
       " <dbl> & <dbl> & <dbl> & <fct>\\\\\n",
       "\\hline\n",
       "\t 63 & 145 & 233 & 0\\\\\n",
       "\t 67 & 160 & 286 & 1\\\\\n",
       "\t 37 & 130 & 250 & 0\\\\\n",
       "\t ⋮ & ⋮ & ⋮ & ⋮\\\\\n",
       "\t 57 & 130 & 131 & 1\\\\\n",
       "\t 57 & 130 & 236 & 1\\\\\n",
       "\t 38 & 138 & 175 & 0\\\\\n",
       "\\end{tabular}\n"
      ],
      "text/markdown": [
       "\n",
       "A tibble: 259 × 4\n",
       "\n",
       "| age &lt;dbl&gt; | resting_bp &lt;dbl&gt; | cholesterol &lt;dbl&gt; | disease_presence &lt;fct&gt; |\n",
       "|---|---|---|---|\n",
       "| 63 | 145 | 233 | 0 |\n",
       "| 67 | 160 | 286 | 1 |\n",
       "| 37 | 130 | 250 | 0 |\n",
       "| ⋮ | ⋮ | ⋮ | ⋮ |\n",
       "| 57 | 130 | 131 | 1 |\n",
       "| 57 | 130 | 236 | 1 |\n",
       "| 38 | 138 | 175 | 0 |\n",
       "\n"
      ],
      "text/plain": [
       "    age resting_bp cholesterol disease_presence\n",
       "1   63  145        233         0               \n",
       "2   67  160        286         1               \n",
       "3   37  130        250         0               \n",
       "⋮   ⋮   ⋮          ⋮           ⋮               \n",
       "257 57  130        131         1               \n",
       "258 57  130        236         1               \n",
       "259 38  138        175         0               "
      ]
     },
     "metadata": {},
     "output_type": "display_data"
    }
   ],
   "source": [
    "# URL dataset comes from\n",
    "url <- \"https://archive.ics.uci.edu/ml/machine-learning-databases/heart-disease/processed.cleveland.data\"\n",
    "# Select predictor and target variable column numbers from the description of the dataset at https://archive.ics.uci.edu/ml/datasets/Heart+Disease\n",
    "heart_data <- read_delim(url, col_names=FALSE, delim=\",\") %>% \n",
    "    select(X1, X4, X5, X14) %>% \n",
    "    # Convert all disease presences greater than 0 to be 1, indicating the patient has heart disease\n",
    "    mutate(X14 = case_when(X14 > 0 ~ 1, X14 == 0 ~ 0)) %>% \n",
    "    # Make target variable a factor\n",
    "    mutate(X14 = as_factor(X14))\n",
    "\n",
    "# Add column names\n",
    "colnames(heart_data) <- c(\"age\", \"resting_bp\", \"cholesterol\", \"disease_presence\")\n",
    "\n",
    "# Split data into training and test set with 85% of data going to the training set\n",
    "heart_split <- initial_split(heart_data, prop = 0.85, strata = disease_presence) \n",
    "heart_train <- training(heart_split) \n",
    "# for later use\n",
    "heart_test <- testing(heart_split)\n",
    "\n",
    "heart_train"
   ]
  },
  {
   "cell_type": "markdown",
   "metadata": {},
   "source": [
    "#### Summary table of the number of observations in each class."
   ]
  },
  {
   "cell_type": "code",
   "execution_count": 3,
   "metadata": {},
   "outputs": [
    {
     "name": "stderr",
     "output_type": "stream",
     "text": [
      "`summarise()` ungrouping output (override with `.groups` argument)\n",
      "\n"
     ]
    },
    {
     "data": {
      "text/html": [
       "<table>\n",
       "<caption>A tibble: 2 × 2</caption>\n",
       "<thead>\n",
       "\t<tr><th scope=col>disease_presence</th><th scope=col>n</th></tr>\n",
       "\t<tr><th scope=col>&lt;fct&gt;</th><th scope=col>&lt;int&gt;</th></tr>\n",
       "</thead>\n",
       "<tbody>\n",
       "\t<tr><td>0</td><td>140</td></tr>\n",
       "\t<tr><td>1</td><td>119</td></tr>\n",
       "</tbody>\n",
       "</table>\n"
      ],
      "text/latex": [
       "A tibble: 2 × 2\n",
       "\\begin{tabular}{ll}\n",
       " disease\\_presence & n\\\\\n",
       " <fct> & <int>\\\\\n",
       "\\hline\n",
       "\t 0 & 140\\\\\n",
       "\t 1 & 119\\\\\n",
       "\\end{tabular}\n"
      ],
      "text/markdown": [
       "\n",
       "A tibble: 2 × 2\n",
       "\n",
       "| disease_presence &lt;fct&gt; | n &lt;int&gt; |\n",
       "|---|---|\n",
       "| 0 | 140 |\n",
       "| 1 | 119 |\n",
       "\n"
      ],
      "text/plain": [
       "  disease_presence n  \n",
       "1 0                140\n",
       "2 1                119"
      ]
     },
     "metadata": {},
     "output_type": "display_data"
    }
   ],
   "source": [
    "counts_of_disease_presence <- group_by(heart_train, disease_presence) %>%\n",
    "    summarize(n=n())\n",
    "counts_of_disease_presence"
   ]
  },
  {
   "cell_type": "markdown",
   "metadata": {},
   "source": [
    "#### Summary table of our predictor variables showing the min, max, and mean of each of our predictors."
   ]
  },
  {
   "cell_type": "code",
   "execution_count": 4,
   "metadata": {},
   "outputs": [
    {
     "name": "stderr",
     "output_type": "stream",
     "text": [
      "New names:\n",
      "* NA -> ...1\n",
      "\n"
     ]
    },
    {
     "data": {
      "text/html": [
       "<table>\n",
       "<caption>A tibble: 3 × 4</caption>\n",
       "<thead>\n",
       "\t<tr><th scope=col>Attribute</th><th scope=col>age</th><th scope=col>resting_bp</th><th scope=col>cholesterol</th></tr>\n",
       "\t<tr><th scope=col>&lt;chr&gt;</th><th scope=col>&lt;dbl&gt;</th><th scope=col>&lt;dbl&gt;</th><th scope=col>&lt;dbl&gt;</th></tr>\n",
       "</thead>\n",
       "<tbody>\n",
       "\t<tr><td>mean</td><td>54.48263</td><td>132.3166</td><td>246.2162</td></tr>\n",
       "\t<tr><td>min </td><td>29.00000</td><td> 94.0000</td><td>126.0000</td></tr>\n",
       "\t<tr><td>max </td><td>77.00000</td><td>200.0000</td><td>564.0000</td></tr>\n",
       "</tbody>\n",
       "</table>\n"
      ],
      "text/latex": [
       "A tibble: 3 × 4\n",
       "\\begin{tabular}{llll}\n",
       " Attribute & age & resting\\_bp & cholesterol\\\\\n",
       " <chr> & <dbl> & <dbl> & <dbl>\\\\\n",
       "\\hline\n",
       "\t mean & 54.48263 & 132.3166 & 246.2162\\\\\n",
       "\t min  & 29.00000 &  94.0000 & 126.0000\\\\\n",
       "\t max  & 77.00000 & 200.0000 & 564.0000\\\\\n",
       "\\end{tabular}\n"
      ],
      "text/markdown": [
       "\n",
       "A tibble: 3 × 4\n",
       "\n",
       "| Attribute &lt;chr&gt; | age &lt;dbl&gt; | resting_bp &lt;dbl&gt; | cholesterol &lt;dbl&gt; |\n",
       "|---|---|---|---|\n",
       "| mean | 54.48263 | 132.3166 | 246.2162 |\n",
       "| min  | 29.00000 |  94.0000 | 126.0000 |\n",
       "| max  | 77.00000 | 200.0000 | 564.0000 |\n",
       "\n"
      ],
      "text/plain": [
       "  Attribute age      resting_bp cholesterol\n",
       "1 mean      54.48263 132.3166   246.2162   \n",
       "2 min       29.00000  94.0000   126.0000   \n",
       "3 max       77.00000 200.0000   564.0000   "
      ]
     },
     "metadata": {},
     "output_type": "display_data"
    }
   ],
   "source": [
    "# Select only predictor variables\n",
    "predictor_vars <- heart_train %>% \n",
    "    select(-disease_presence)\n",
    "\n",
    "# Summarize each of the metrics we are looking for using map_df\n",
    "mean_summary <- predictor_vars %>% \n",
    "    map_df(mean, na.rm=TRUE)\n",
    "min_summary <- predictor_vars %>% \n",
    "    map_df(min, na.rm=TRUE)\n",
    "max_summary <- predictor_vars %>% \n",
    "    map_df(max, na.rm=TRUE)\n",
    "\n",
    "# Combine predicted summary dataframes together\n",
    "predictor_summary <- bind_rows(mean_summary, min_summary, max_summary)\n",
    "# Combine predicted summary dataframe with descriptive row titles\n",
    "predictor_summary <- bind_cols(c(\"mean\", \"min\", \"max\"), predictor_summary)\n",
    "# Rename column names to match what is in each column\n",
    "colnames(predictor_summary) = c(\"Attribute\", \"age\", \"resting_bp\", \"cholesterol\")\n",
    "\n",
    "predictor_summary"
   ]
  },
  {
   "cell_type": "markdown",
   "metadata": {},
   "source": [
    "#### Visualizing our Training Data\n",
    "Here we have created one histogram for each of our predictors showing the distribution of the values in each column."
   ]
  },
  {
   "cell_type": "code",
   "execution_count": 5,
   "metadata": {},
   "outputs": [
    {
     "name": "stderr",
     "output_type": "stream",
     "text": [
      "Loading required package: gridExtra\n",
      "\n",
      "\n",
      "Attaching package: ‘gridExtra’\n",
      "\n",
      "\n",
      "The following object is masked from ‘package:dplyr’:\n",
      "\n",
      "    combine\n",
      "\n",
      "\n"
     ]
    },
    {
     "data": {
      "image/png": "[encoded data removed]",
      "text/plain": [
       "plot without title"
      ]
     },
     "metadata": {
      "image/png": {
       "height": 420,
       "width": 1200
      }
     },
     "output_type": "display_data"
    }
   ],
   "source": [
    "require(gridExtra)\n",
    "options(repr.plot.height = 7, repr.plot.width = 20)\n",
    "age_histogram <- ggplot(heart_train, aes(x = age)) +\n",
    "    geom_histogram(binwidth = 1) +\n",
    "    xlab(\"Age\") +\n",
    "    ylab(\"Count\") +\n",
    "    ggtitle(\"Age Distribution\") +\n",
    "    theme(text = element_text(size = 15))\n",
    "resting_bp_histogram <- ggplot(heart_train, aes(x = resting_bp)) +\n",
    "    geom_histogram(binwidth = 3) +\n",
    "    xlab(\"Resting Blood Pressure (mmHg)\") +\n",
    "    ylab(\"Count\") +\n",
    "    ggtitle(\"Resting Blood Pressure Distribution\") +\n",
    "    theme(text = element_text(size = 15))\n",
    "cholesterol_histogram <- ggplot(heart_train, aes(x = cholesterol)) +\n",
    "    geom_histogram(binwidth = 6) +\n",
    "    xlab(\"Cholesterol Level (mg/dL)\") +\n",
    "    ylab(\"Count\") +\n",
    "    ggtitle(\"Cholesterol Level Distribution\") +\n",
    "    theme(text = element_text(size = 15))\n",
    "\n",
    "grid.arrange(age_histogram, resting_bp_histogram, cholesterol_histogram, ncol = 3)"
   ]
  },
  {
   "cell_type": "markdown",
   "metadata": {},
   "source": [
    "## Data Analysis"
   ]
  },
  {
   "cell_type": "markdown",
   "metadata": {},
   "source": [
    "To begin, we will create a recipe that uses all the predictors in the training set (age, resting blood pressure, and cholesterol), and scale and center the variables so that they are on a comparable magnitude. We will then create a model specification with tuning on the number of neighbors. We will then perform a 5-fold cross-validation on the training set."
   ]
  },
  {
   "cell_type": "code",
   "execution_count": 6,
   "metadata": {},
   "outputs": [],
   "source": [
    "heart_recipe <- recipe(disease_presence ~ ., data = heart_train) %>%\n",
    "                step_scale(all_predictors()) %>%\n",
    "                step_center(all_predictors())\n",
    "\n",
    "knn_spec <- nearest_neighbor(weight_func = \"rectangular\", neighbors = tune()) %>%\n",
    "            set_engine(\"kknn\") %>%\n",
    "            set_mode(\"classification\")\n",
    "\n",
    "heart_vfold <- vfold_cv(heart_train, v = 5, strata = disease_presence)"
   ]
  },
  {
   "cell_type": "markdown",
   "metadata": {},
   "source": [
    "We will then create a workflow analysis with our recipe and model specification and in order to have a comprehensive analysis of the best K-value, we will have it try 10 values of K. We will then collect the metrics from this workflow analysis."
   ]
  },
  {
   "cell_type": "code",
   "execution_count": 7,
   "metadata": {},
   "outputs": [],
   "source": [
    "k_vals <- tibble(neighbors = seq(from = 1, to = 80, by = 2))\n",
    "\n",
    "heart_fit <- workflow() %>%\n",
    "            add_recipe(heart_recipe) %>%\n",
    "            add_model(knn_spec) %>%\n",
    "            tune_grid(resamples = heart_vfold, grid = k_vals) %>%\n",
    "            collect_metrics()"
   ]
  },
  {
   "cell_type": "markdown",
   "metadata": {},
   "source": [
    "We will now plot the K-value against the accuracy it yields, to visualize which value of K is the most accurate."
   ]
  },
  {
   "cell_type": "code",
   "execution_count": 8,
   "metadata": {},
   "outputs": [
    {
     "data": {
      "image/png": "[encoded data removed]",
      "text/plain": [
       "plot without title"
      ]
     },
     "metadata": {
      "image/png": {
       "height": 420,
       "width": 1200
      }
     },
     "output_type": "display_data"
    }
   ],
   "source": [
    "accuracies <- heart_fit %>% \n",
    "    filter(.metric == \"accuracy\")\n",
    "\n",
    "cross_val_plot <- ggplot(accuracies, aes(x = neighbors, y = mean)) +\n",
    "    geom_point() +\n",
    "    geom_line() +\n",
    "    labs(x = \"Neighbors\", y = \"Accuracy Estimate\") +\n",
    "    scale_x_continuous(breaks = seq(1, 80, by = 2)) +  # adjusting the x-axis\n",
    "    scale_y_continuous(limits = c(0.3, 0.7)) # adjusting the y-axis\n",
    "\n",
    "cross_val_plot"
   ]
  },
  {
   "cell_type": "markdown",
   "metadata": {},
   "source": [
    "Next, we will use the 39 as our k-value as it has the highest corresponding accuracy displayed above. This will help predict the disease presence of the testing data."
   ]
  },
  {
   "cell_type": "code",
   "execution_count": 17,
   "metadata": {},
   "outputs": [
    {
     "data": {
      "text/html": [
       "<table>\n",
       "<caption>A tibble: 44 × 5</caption>\n",
       "<thead>\n",
       "\t<tr><th scope=col>.pred_class</th><th scope=col>age</th><th scope=col>resting_bp</th><th scope=col>cholesterol</th><th scope=col>disease_presence</th></tr>\n",
       "\t<tr><th scope=col>&lt;fct&gt;</th><th scope=col>&lt;dbl&gt;</th><th scope=col>&lt;dbl&gt;</th><th scope=col>&lt;dbl&gt;</th><th scope=col>&lt;fct&gt;</th></tr>\n",
       "</thead>\n",
       "<tbody>\n",
       "\t<tr><td>1</td><td>67</td><td>120</td><td>229</td><td>1</td></tr>\n",
       "\t<tr><td>1</td><td>56</td><td>120</td><td>236</td><td>0</td></tr>\n",
       "\t<tr><td>0</td><td>56</td><td>130</td><td>256</td><td>1</td></tr>\n",
       "\t<tr><td>⋮</td><td>⋮</td><td>⋮</td><td>⋮</td><td>⋮</td></tr>\n",
       "\t<tr><td>1</td><td>58</td><td>130</td><td>197</td><td>0</td></tr>\n",
       "\t<tr><td>0</td><td>35</td><td>122</td><td>192</td><td>0</td></tr>\n",
       "\t<tr><td>0</td><td>44</td><td>120</td><td>169</td><td>1</td></tr>\n",
       "</tbody>\n",
       "</table>\n"
      ],
      "text/latex": [
       "A tibble: 44 × 5\n",
       "\\begin{tabular}{lllll}\n",
       " .pred\\_class & age & resting\\_bp & cholesterol & disease\\_presence\\\\\n",
       " <fct> & <dbl> & <dbl> & <dbl> & <fct>\\\\\n",
       "\\hline\n",
       "\t 1 & 67 & 120 & 229 & 1\\\\\n",
       "\t 1 & 56 & 120 & 236 & 0\\\\\n",
       "\t 0 & 56 & 130 & 256 & 1\\\\\n",
       "\t ⋮ & ⋮ & ⋮ & ⋮ & ⋮\\\\\n",
       "\t 1 & 58 & 130 & 197 & 0\\\\\n",
       "\t 0 & 35 & 122 & 192 & 0\\\\\n",
       "\t 0 & 44 & 120 & 169 & 1\\\\\n",
       "\\end{tabular}\n"
      ],
      "text/markdown": [
       "\n",
       "A tibble: 44 × 5\n",
       "\n",
       "| .pred_class &lt;fct&gt; | age &lt;dbl&gt; | resting_bp &lt;dbl&gt; | cholesterol &lt;dbl&gt; | disease_presence &lt;fct&gt; |\n",
       "|---|---|---|---|---|\n",
       "| 1 | 67 | 120 | 229 | 1 |\n",
       "| 1 | 56 | 120 | 236 | 0 |\n",
       "| 0 | 56 | 130 | 256 | 1 |\n",
       "| ⋮ | ⋮ | ⋮ | ⋮ | ⋮ |\n",
       "| 1 | 58 | 130 | 197 | 0 |\n",
       "| 0 | 35 | 122 | 192 | 0 |\n",
       "| 0 | 44 | 120 | 169 | 1 |\n",
       "\n"
      ],
      "text/plain": [
       "   .pred_class age resting_bp cholesterol disease_presence\n",
       "1  1           67  120        229         1               \n",
       "2  1           56  120        236         0               \n",
       "3  0           56  130        256         1               \n",
       "⋮  ⋮           ⋮   ⋮          ⋮           ⋮               \n",
       "42 1           58  130        197         0               \n",
       "43 0           35  122        192         0               \n",
       "44 0           44  120        169         1               "
      ]
     },
     "metadata": {},
     "output_type": "display_data"
    }
   ],
   "source": [
    "knn_spec_max <- nearest_neighbor(weight_func = 'rectangular', neighbors = 39) %>%\n",
    "    set_engine('kknn') %>%\n",
    "    set_mode('classification')\n",
    "\n",
    "heart_fit_max <- workflow() %>% \n",
    "    add_recipe(heart_recipe) %>%\n",
    "    add_model(knn_spec_max) %>%\n",
    "    fit(data = heart_train)\n",
    "\n",
    "heart_predictions <- predict(heart_fit_max, heart_test) %>%\n",
    "    bind_cols(heart_test) \n",
    "heart_predictions"
   ]
  },
  {
   "cell_type": "markdown",
   "metadata": {},
   "source": [
    "Now, we will compare the predictions to the true values and determine the predictions accuracy."
   ]
  },
  {
   "cell_type": "code",
   "execution_count": 18,
   "metadata": {},
   "outputs": [
    {
     "data": {
      "text/html": [
       "<table>\n",
       "<caption>A tibble: 1 × 3</caption>\n",
       "<thead>\n",
       "\t<tr><th scope=col>.metric</th><th scope=col>.estimator</th><th scope=col>.estimate</th></tr>\n",
       "\t<tr><th scope=col>&lt;chr&gt;</th><th scope=col>&lt;chr&gt;</th><th scope=col>&lt;dbl&gt;</th></tr>\n",
       "</thead>\n",
       "<tbody>\n",
       "\t<tr><td>accuracy</td><td>binary</td><td>0.5454545</td></tr>\n",
       "</tbody>\n",
       "</table>\n"
      ],
      "text/latex": [
       "A tibble: 1 × 3\n",
       "\\begin{tabular}{lll}\n",
       " .metric & .estimator & .estimate\\\\\n",
       " <chr> & <chr> & <dbl>\\\\\n",
       "\\hline\n",
       "\t accuracy & binary & 0.5454545\\\\\n",
       "\\end{tabular}\n"
      ],
      "text/markdown": [
       "\n",
       "A tibble: 1 × 3\n",
       "\n",
       "| .metric &lt;chr&gt; | .estimator &lt;chr&gt; | .estimate &lt;dbl&gt; |\n",
       "|---|---|---|\n",
       "| accuracy | binary | 0.5454545 |\n",
       "\n"
      ],
      "text/plain": [
       "  .metric  .estimator .estimate\n",
       "1 accuracy binary     0.5454545"
      ]
     },
     "metadata": {},
     "output_type": "display_data"
    }
   ],
   "source": [
    "heart_metrics <- heart_predictions %>%\n",
    "    metrics(truth = disease_presence, estimate = .pred_class) %>% \n",
    "    filter(.metric == 'accuracy')\n",
    "heart_metrics"
   ]
  },
  {
   "cell_type": "markdown",
   "metadata": {},
   "source": [
    "Next, we make a confusion matrix to help visualize the results of the classification predictions."
   ]
  },
  {
   "cell_type": "code",
   "execution_count": 19,
   "metadata": {},
   "outputs": [
    {
     "data": {
      "text/plain": [
       "          Truth\n",
       "Prediction  0  1\n",
       "         0 12  8\n",
       "         1 12 12"
      ]
     },
     "metadata": {},
     "output_type": "display_data"
    }
   ],
   "source": [
    "heart_conf_mat <- heart_predictions %>%\n",
    "    conf_mat(truth = disease_presence, estimate = .pred_class)\n",
    "heart_conf_mat"
   ]
  },
  {
   "cell_type": "markdown",
   "metadata": {},
   "source": [
    "## Expected outcomes and significance:"
   ]
  },
  {
   "cell_type": "markdown",
   "metadata": {},
   "source": [
    "### References:"
   ]
  },
  {
   "cell_type": "code",
   "execution_count": null,
   "metadata": {},
   "outputs": [],
   "source": []
  }
 ],
 "metadata": {
  "kernelspec": {
   "display_name": "R",
   "language": "R",
   "name": "ir"
  },
  "language_info": {
   "codemirror_mode": "r",
   "file_extension": ".r",
   "mimetype": "text/x-r-source",
   "name": "R",
   "pygments_lexer": "r",
   "version": "4.0.0"
  }
 },
 "nbformat": 4,
 "nbformat_minor": 4
}
